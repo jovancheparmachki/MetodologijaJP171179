{
 "cells": [
  {
   "cell_type": "markdown",
   "metadata": {
    "kernel": "SoS"
   },
   "source": [
    "ТЕОРИЈА\n",
    "\n",
    "За да филтрираме слика во фреквенциски домен потребно е да ја помножиме сликата во фреквенциски домен со филтерот (кернел) кој е исто така\n",
    "во фреквенциски домен.\n",
    "\n",
    "\\begin{equation}\n",
    "I_{f, filt}= H_f\n",
    "\\end{equation}\n",
    "\n",
    "За таа цел потребно е да се вметне Octave функција која ќе креира “Band pass\n",
    "gaussian filter” во фреквенциски домен. Bandpass гаусовиот филтер во фреквенциски домен е дефиниран со равенката:\n",
    "\n",
    "\\begin{equation}\n",
    "H(i, j)= e^\\frac{-d(i,j)^2}{f^2_h}(1- e^\\frac{-d(i,j)^2}{f^2_l})\n",
    "\\end{equation}\n",
    "\n",
    "Каде што $d(i, j)$ е евклидовото растојанието на даден пиксел од центарот\n",
    "на сликата, додека $f_h$ и $f_l$ се праговите на високите и ниските фреквенции кои сакаме да ги филтрираме.\n",
    "Конверзија на 2D сликата од просторен во фреквенциски домен се прави со користење на Фуриева трансформација.\n",
    "Фуриевата трансформација е дефинирана како:\n",
    "\n",
    "\\begin{equation}\n",
    "F(u, v) = \\iint_{-\\infty}^{\\infty}f(x,y) e^{-i2\\pi(ux+vy)}dxdy\n",
    "\\end{equation}\n",
    "\n",
    "А во дискретниот домен горната равенка може да биде преведена како\n",
    "\n",
    "\\begin{equation}\n",
    "F(u, v) = \\sum_{m=-\\infty}^{\\infty}\\sum_{n=-\\infty}^{\\infty}f[m,n] e^{-i2\\pi(umx_0+vny_0)}\n",
    "\\end{equation}\n",
    "\n",
    "Конверзија на 2D сликата од фреквенциски во просторен домен се прави со користење на инверзна Фуриева трансформација. Инверзната Фуриева трансформација е дефинирана како:\n",
    "\n",
    "\\begin{equation}\n",
    "f(x, y) = \\iint_{-\\infty}^{\\infty}F(u, v) e^{i2\\pi(ux+vy)}dudv\n",
    "\\end{equation}\n",
    "\n",
    "А во дискретниот домен горната равенка може да биде преведена како\n",
    "\n",
    "\\begin{equation}\n",
    "f(x, y) = \\sum_{m=-\\infty}^{\\infty}\\sum_{n=-\\infty}^{\\infty}F(m,n) e^{i2\\pi(xmu_0+ynv_0)}\n",
    "\\end{equation}\n"
   ]
  },
  {
   "cell_type": "code",
   "execution_count": 1,
   "metadata": {
    "kernel": "Octave"
   },
   "outputs": [
    {
     "name": "stdout",
     "output_type": "stream",
     "text": [
      "Created file 'C:\\Users\\user\\Downloads\\create_filter.m'.\n"
     ]
    }
   ],
   "source": [
    "%%file create_filter.m\n",
    "function filter = create_filter(nx,ny,d0,d1)\n",
    "\n",
    "filter = ones(nx,ny);\n",
    "\n",
    "for i = 0:nx-1,\n",
    "            for j = 0:ny-1\n",
    "                 dist= sqrt((i-nx/2)^2 + (j-ny/2)^2);\n",
    "                 filter(i+1,j+1) = exp(-dist^2/(2*(d1^2))).*(1.0-exp(-dist^2/(2*(d0^2))));\n",
    "            end\n",
    "end\n",
    "\n",
    "filter(nx/2+1,ny/2+1)=1;\n",
    "end"
   ]
  },
  {
   "cell_type": "code",
   "execution_count": null,
   "metadata": {
    "kernel": "Octave"
   },
   "outputs": [],
   "source": [
    "clear all\n",
    "%read image\n",
    "im = double(imread('C:\\Users\\user\\Barbara.tif'));\n",
    "%size of the image\n",
    "[nx ny] = size(im);\n",
    "%Transform the image from spatial to frequency domain\n",
    "im_fft = fftshift(fft2(im));\n",
    "% Create Gaussian bandpass kernels, in frequency domain, for 20 different cut off frequencies and filter the image\n",
    "p=1;\n",
    "for i = 1:10:101\n",
    "q=1;\n",
    "    for j = 1:10:101\n",
    "        %Create the bandpass kernel\n",
    "        tmp1 = create_filter(nx,ny,i,j);\n",
    "        %Filter the image with the bandpass kernel and transform it back to spatial domain\n",
    "        tmp = abs(ifft2(ifftshift(tmp1.*im_fft)));\n",
    "        %Save the filtered image (in spatial domain) and kernel (in frequency domain) for visualization \n",
    "        filtered_image(p,q,:) = tmp(:);\n",
    "        filter_kernel(p,q,:) = tmp1(:);\n",
    "        q=q+1;\n",
    "    end\n",
    "    p=p+1;\n",
    "end\n",
    "\n",
    "save filtered_image\n",
    "save filter_kernel"
   ]
  },
  {
   "cell_type": "code",
   "execution_count": null,
   "metadata": {
    "kernel": "Python3"
   },
   "outputs": [],
   "source": [
    "import ipywidgets as widgets\n",
    "widgets.IntRangeSlider(\n",
    "    value=[0, 10],\n",
    "    min=0,\n",
    "    max=10,\n",
    "    step=1,\n",
    "    description='Frueqeuncy cuttoffs:',\n",
    "    style={'description_width': 'initial'} ,\n",
    "    disabled=False,\n",
    "    continuous_update=False,\n",
    "    orientation='horizontal',\n",
    "    readout=True,\n",
    "    readout_format='d',\n",
    "\n",
    ")"
   ]
  },
  {
   "cell_type": "code",
   "execution_count": null,
   "metadata": {
    "kernel": "Python3"
   },
   "outputs": [],
   "source": [
    "from scipy.io import loadmat\n",
    "import matplotlib.pyplot as plt\n",
    "import scipy.io as sio\n",
    "import numpy as np\n",
    "\n",
    "filtriranaslika = sio.loadmat('filtered_image.mat')\n",
    "filtrirankernel = sio.loadmat('filter_kernel.mat')\n",
    "imgfiltslika = filtered_image['filtered_image']\n",
    "imgfiltkernel = filtered_kernel['filter_kernel']\n",
    "\n",
    "def plot(value):\n",
    "    image = imgfiltslika\n",
    "    kernel =  imgfiltkernel\n",
    "    plot_image = np.concatenate((np.fliplr(image), np.fliplr(kernel)), axis=1)\n",
    "    plt.figure(figsize=(20,30))\n",
    "    plt.imshow(plot_image, cmap=\"gray\")\n",
    "    plt.title('Filtered Image\\n')\n",
    "    plt.axis('off')\n",
    "    plt.show()\n",
    "    \n",
    "widgets.interactive(plot, value=value)\n",
    "\n"
   ]
  }
 ],
 "metadata": {
  "kernelspec": {
   "display_name": "SoS",
   "language": "sos",
   "name": "sos"
  },
  "language_info": {
   "codemirror_mode": "sos",
   "file_extension": ".sos",
   "mimetype": "text/x-sos",
   "name": "sos",
   "nbconvert_exporter": "sos_notebook.converter.SoS_Exporter",
   "pygments_lexer": "sos"
  },
  "sos": {
   "kernels": [
    [
     "Octave",
     "octave",
     "Octave",
     "#dff8fb",
     ""
    ],
    [
     "Python3",
     "python3",
     "Python3",
     "#FFD91A",
     ""
    ]
   ],
   "panel": {
    "displayed": true,
    "height": 0
   },
   "version": "0.21.1"
  }
 },
 "nbformat": 4,
 "nbformat_minor": 4
}
